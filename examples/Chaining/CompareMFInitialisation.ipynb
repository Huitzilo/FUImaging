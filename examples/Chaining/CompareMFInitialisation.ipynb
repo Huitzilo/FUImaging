{
 "metadata": {
  "name": "",
  "signature": "sha256:4b36367b5179a433cf102c078b607fd47294235a28fe823a59a8173f3cf2ac8e"
 },
 "nbformat": 3,
 "nbformat_minor": 0,
 "worksheets": [
  {
   "cells": [
    {
     "cell_type": "heading",
     "level": 1,
     "metadata": {},
     "source": [
      "Effects of Chaining rNMF and sICA"
     ]
    },
    {
     "cell_type": "markdown",
     "metadata": {},
     "source": [
      "This Notebook reproduces some results of the manuscript http://dx.doi.org/10.1016/j.neuroimage.2014.04.041. Please make sure to have the regNMF module (available at https://github.com/jansoe/FUImaging) in your PYTHONPATH."
     ]
    },
    {
     "cell_type": "code",
     "collapsed": false,
     "input": [
      "import sys\n",
      "import os\n",
      "import pickle\n",
      "import matplotlib.pyplot as plt\n",
      "import numpy as np\n",
      "from collections import defaultdict\n",
      "from scipy.spatial.distance import pdist\n",
      "from scipy.stats import gaussian_kde\n",
      "\n",
      "pythonpath_for_regnmf = os.path.realpath(os.path.join(os.path.pardir, os.path.pardir))\n",
      "sys.path.append(pythonpath_for_regnmf)      \n",
      "from regnmf import ImageAnalysisComponents as ia\n",
      "from regnmf import datamaker\n",
      "from regnmf.regularizedHALS import convex_cone\n",
      "\n",
      "import warnings\n",
      "warnings.filterwarnings(\"ignore\", category=DeprecationWarning) "
     ],
     "language": "python",
     "metadata": {},
     "outputs": [],
     "prompt_number": 8
    },
    {
     "cell_type": "code",
     "collapsed": false,
     "input": [
      "%matplotlib inline"
     ],
     "language": "python",
     "metadata": {},
     "outputs": [],
     "prompt_number": 3
    },
    {
     "cell_type": "heading",
     "level": 3,
     "metadata": {},
     "source": [
      "Parameter for creation of surrogate Data"
     ]
    },
    {
     "cell_type": "code",
     "collapsed": false,
     "input": [
      "param = {'act_time': [0.01, 0.1, 0.3, 0.8, 1.0, 1.0],\n",
      " 'cov': 0.3,\n",
      " 'latents': 40,\n",
      " 'mean': 0.2,\n",
      " 'no_samples': 50,\n",
      " 'noisevar': 0.2,\n",
      " 'shape': (50, 50),\n",
      " 'width':0.1,\n",
      " 'var': 0.08}"
     ],
     "language": "python",
     "metadata": {},
     "outputs": [],
     "prompt_number": 4
    },
    {
     "cell_type": "heading",
     "level": 3,
     "metadata": {},
     "source": [
      "Parameter for Matrix Factorization"
     ]
    },
    {
     "cell_type": "code",
     "collapsed": false,
     "input": [
      "anal_param = {'sparse_param': 0.5,\n",
      "              'factors': 80,\n",
      "              'smooth_param': 2,\n",
      "              'init':'convex', \n",
      "              'sparse_fct':'global_sparse',\n",
      "              'verbose':0\n",
      "              }"
     ],
     "language": "python",
     "metadata": {},
     "outputs": [],
     "prompt_number": 5
    },
    {
     "cell_type": "heading",
     "level": 3,
     "metadata": {},
     "source": [
      "Helper Functions"
     ]
    },
    {
     "cell_type": "code",
     "collapsed": false,
     "input": [
      "def violin_plot(ax, data, color='b'):\n",
      "    '''\n",
      "    create violin plots on an axis\n",
      "    '''\n",
      "    w = 0.4\n",
      "    for p, d in enumerate(data):\n",
      "        k = gaussian_kde(d) #calculates the kernel density\n",
      "        m = k.dataset.min() #lower bound of violin\n",
      "        M = k.dataset.max() #upper bound of violin\n",
      "        x = np.arange(m,M,(M-m)/100.) # support for violin\n",
      "        v = k.evaluate(x) #violin profile (density curve)\n",
      "        scale = w/v.max()\n",
      "        v = v*scale #scaling the violin to the available space\n",
      "        ax.fill_betweenx(x,p,v+p, facecolor=color, edgecolor = color, alpha=1)\n",
      "        ax.fill_betweenx(x,p,-v+p, facecolor=color, edgecolor = color, alpha=1)\n",
      "        \n",
      "        #median\n",
      "        perc = np.percentile(d, [25,50,75])\n",
      "        perc_width = k.evaluate(perc)*scale \n",
      "        l1, = ax.plot([p-perc_width[1],p+perc_width[1]],[perc[1], perc[1]], 'k', lw=0.5)\n",
      "        l2, = ax.plot([p-perc_width[0],p+perc_width[0]],[perc[0], perc[0]], '0.25', lw=0.5)\n",
      "        ax.plot([p-perc_width[2],p+perc_width[2]],[perc[2], perc[2]], '0.25', lw=0.5)\n",
      "    ax.legend([l1, l2], ['median', 'quartiles'], prop={'size':fontsize}, numpoints=1, \n",
      "              loc = 'lower right', labelspacing=0.1, handletextpad=0.5, bbox_to_anchor = (1, 0.9), \n",
      "              handlelength=1, borderaxespad=-0.5, frameon=False)\n",
      "    \n",
      "def cor(time1, time2, num_sources):\n",
      "    '''calculate crosscorrelation between sources and latents'''\n",
      "    return np.corrcoef(np.vstack((time1, time2)))[num_sources:, :num_sources]"
     ],
     "language": "python",
     "metadata": {},
     "outputs": [],
     "prompt_number": 6
    },
    {
     "cell_type": "heading",
     "level": 2,
     "metadata": {},
     "source": [
      "Perform chained matrix factorization"
     ]
    },
    {
     "cell_type": "markdown",
     "metadata": {},
     "source": [
      "applied factorizations:\n",
      "\n",
      "- plain rNMF and plain sICA\n",
      "- rNMF on data from sICA (i.e. PCA) reconstruction, that is __A*X__\n",
      "- rNMF initialized by rectified sICA components\n",
      "- sICA on pixel participation of rNMF\n",
      "- sICA on data from rNMF reconstruction"
     ]
    },
    {
     "cell_type": "code",
     "collapsed": false,
     "input": [
      "num_datasets = 5 #number of independent datasets\n",
      "\n",
      "mse = defaultdict(list)\n",
      "cor = defaultdict(list)\n",
      "\n",
      "for dummy in range(num_datasets):\n",
      "    compare = {}\n",
      "    # create data\n",
      "    tempdata = datamaker.Dataset(param)\n",
      "    \n",
      "    # plain NMF\n",
      "    nnma = ia.NNMF(maxcount=50, num_components=anal_param['factors'])\n",
      "    anal_param.update({'init':'convex'})\n",
      "    nnma.param.update(anal_param)  \n",
      "    \n",
      "    compare['nmf'] = nnma(ia.TimeSeries(tempdata.observed, shape=param['shape']))\n",
      "    \n",
      "    # plain sICA\n",
      "    sica = ia.sICA(num_components=anal_param['factors'])\n",
      "    compare['sica'] = sica(ia.TimeSeries(tempdata.observed, shape=param['shape']))\n",
      "    \n",
      "    # NMF on sICA reduced data\n",
      "    reduced_data = np.dot(compare['sica']._series, compare['sica'].base._series)\n",
      "    compare['sicareduced_nmf'] = nnma(ia.TimeSeries(reduced_data, shape=param['shape']))\n",
      "    \n",
      "    # sICA initialized NMF\n",
      "    nnma = ia.NNMF(maxcount=50, num_components=anal_param['factors'])\n",
      "    A = compare['sica']._series.copy()\n",
      "    X = compare['sica'].base._series.copy()\n",
      "    A[A<0]=0\n",
      "    X[X<0]=0\n",
      "    anal_param.update({'init':{'A':A, 'X':X}})\n",
      "    nnma.param.update(anal_param)    \n",
      "    compare['sicainit_nmf'] = nnma(ia.TimeSeries(tempdata.observed, shape=param['shape']))\n",
      "    \n",
      "    # NMF initialized sICA\n",
      "    compare['nmfinit_sica'] = compare['nmf'].copy()\n",
      "    sica = ia.sICA(num_components=anal_param['factors'])\n",
      "    out_temp = sica(compare['nmfinit_sica'].base.copy())\n",
      "    compare['nmfinit_sica'].base = out_temp.base\n",
      "    compare['nmfinit_sica']._series = np.dot(compare['nmfinit_sica']._series, out_temp._series)\n",
      "    \n",
      "    # sICA on NMF reduced data\n",
      "    nmf_reduced = np.dot(compare['nmf']._series, compare['nmf'].base._series)\n",
      "    sica = ia.sICA(num_components=anal_param['factors'])\n",
      "    compare['nmfreduced_sica'] = sica(ia.TimeSeries(nmf_reduced, shape=param['shape']))\n",
      "    \n",
      "    # sICA on convex cone\n",
      "    compare['ccinit_sica'] = compare['nmf'].copy()\n",
      "    init = convex_cone(tempdata.observed, anal_param['factors'])\n",
      "    out_temp = sica(ia.TimeSeries(np.array(init['base']), shape=param['shape']))\n",
      "    compare['ccinit_sica'].base = out_temp.base\n",
      "    compare['ccinit_sica']._series = np.dot(np.array(init['timecourses']).T, out_temp._series)\n",
      "    \n",
      "    #collect performance measures\n",
      "    for k in compare:\n",
      "        cor[k] += list(tempdata.cor2source(compare[k])[1])\n",
      "        mse[k] += list(tempdata.mse2source(compare[k], local=0.05))"
     ],
     "language": "python",
     "metadata": {},
     "outputs": [
      {
       "output_type": "stream",
       "stream": "stderr",
       "text": [
        "/Users/micha/anaconda/lib/python2.7/site-packages/numpy/lib/function_base.py:1945: RuntimeWarning: invalid value encountered in true_divide\n",
        "  return c / sqrt(multiply.outer(d, d))\n"
       ]
      }
     ],
     "prompt_number": 9
    },
    {
     "cell_type": "heading",
     "level": 3,
     "metadata": {},
     "source": [
      "Violinplots of Source Recovery (SR)"
     ]
    },
    {
     "cell_type": "code",
     "collapsed": false,
     "input": [
      "fig = plt.figure(figsize=(15, 6))\n",
      "fontsize = 10\n",
      "\n",
      "ax = fig.add_axes([0.1,0.2,0.35,0.75])\n",
      "keys = ['nmf', 'sicainit_nmf', 'sicareduced_nmf']\n",
      "data = [1-np.array(mse[i]) for i in keys]\n",
      "violin_plot(ax, data, '0.5')\n",
      "ax.set_xticks(range(len(keys)))\n",
      "ax.set_xticklabels(['NMF', 'sICA init\\nNMF', 'sICA reconst.\\nNMF'],\n",
      "                   rotation='0', ha='center', size=fontsize)\n",
      "ax.set_ylabel('SR', size=fontsize)\n",
      "ax.set_ylim([0,0.9])\n",
      "ax.set_yticks([0,0.4,0.8])\n",
      "ax.yaxis.set_tick_params(labelsize=fontsize)\n",
      "ax.yaxis.set_ticks_position('left')\n",
      "ax.xaxis.set_tick_params(size=0)\n",
      "for pos in ['right', 'bottom', 'top']:\n",
      "    ax.spines[pos].set_color('none')\n",
      "\n",
      "    \n",
      "ax = fig.add_axes([0.6,0.2,0.35,0.75])\n",
      "keys = ['sica', 'nmfinit_sica', 'nmfreduced_sica']\n",
      "data = [1-np.array(mse[i]) for i in keys]\n",
      "violin_plot(ax, data, '0.5')\n",
      "ax.set_xticks(range(len(keys)))\n",
      "ax.set_xticklabels(['sICA', 'NMF init\\nsICA', 'NMF reconst.\\nsICA'],\n",
      "                   rotation='0', ha='center', size=fontsize)\n",
      "ax.set_ylabel('SR', size=fontsize)\n",
      "ax.set_ylim([0,0.9])\n",
      "ax.set_yticks([0,0.4,0.8])\n",
      "ax.yaxis.set_tick_params(labelsize=fontsize)\n",
      "ax.yaxis.set_ticks_position('left')\n",
      "ax.xaxis.set_tick_params(size=0)\n",
      "for pos in ['right', 'bottom', 'top']:\n",
      "    ax.spines[pos].set_color('none')\n",
      "\n",
      "plt.show()"
     ],
     "language": "python",
     "metadata": {},
     "outputs": [
      {
       "metadata": {},
       "output_type": "display_data",
       "png": "[encoded data removed]",
       "text": [
        "<matplotlib.figure.Figure at 0x11ee8d2d0>"
       ]
      }
     ],
     "prompt_number": 10
    }
   ],
   "metadata": {}
  }
 ]
}